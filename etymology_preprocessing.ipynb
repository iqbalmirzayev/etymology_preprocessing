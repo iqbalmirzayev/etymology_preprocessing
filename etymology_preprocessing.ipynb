{
 "cells": [
  {
   "cell_type": "code",
   "execution_count": 21,
   "metadata": {},
   "outputs": [],
   "source": [
    "import pandas as pd\n",
    "csv_path = r\"C:\\Users\\Iqbal\\Documents\\Dillər Söz Analizi\\etymology.csv\\etymology.parquet\"\n",
    "data = pd.read_parquet(csv_path)\n",
    "\n",
    "data = data.drop('group_tag', axis=1)\n",
    "data = data.drop('parent_tag', axis=1)\n",
    "data = data.drop('parent_position', axis=1)\n",
    "data['lang'] = data['lang'].str.strip()\n",
    "data=data.drop_duplicates()\n"
   ]
  },
  {
   "cell_type": "code",
   "execution_count": 22,
   "metadata": {},
   "outputs": [],
   "source": [
    "lang_counts = data['lang'].value_counts(normalize=True)  \n",
    "\n",
    "cumulative_ratio = lang_counts.cumsum()  \n",
    "diller_to_keep = cumulative_ratio[cumulative_ratio <= 0.9].index  \n",
    "\n",
    "data = data[data['lang'].isin(diller_to_keep)]"
   ]
  },
  {
   "cell_type": "code",
   "execution_count": 23,
   "metadata": {},
   "outputs": [
    {
     "name": "stdout",
     "output_type": "stream",
     "text": [
      "<class 'pandas.core.frame.DataFrame'>\n",
      "RangeIndex: 3732008 entries, 0 to 3732007\n",
      "Data columns (total 8 columns):\n",
      " #   Column           Dtype \n",
      "---  ------           ----- \n",
      " 0   term_id          object\n",
      " 1   lang             object\n",
      " 2   term             object\n",
      " 3   reltype          object\n",
      " 4   related_term_id  object\n",
      " 5   related_lang     object\n",
      " 6   related_term     object\n",
      " 7   position         int64 \n",
      "dtypes: int64(1), object(7)\n",
      "memory usage: 227.8+ MB\n"
     ]
    }
   ],
   "source": [
    "data.reset_index(drop=True, inplace=True)\n",
    "data.info()"
   ]
  },
  {
   "cell_type": "code",
   "execution_count": 24,
   "metadata": {},
   "outputs": [],
   "source": [
    "data.to_csv('etymology.csv',index=False, encoding='utf-8')"
   ]
  },
  {
   "cell_type": "code",
   "execution_count": null,
   "metadata": {},
   "outputs": [],
   "source": [
    "relations = [\n",
    "    \"has_root\",\n",
    "    \"has_prefix\",\n",
    "    \"has_prefix_with_root\",\n",
    "    \"has_suffix\",\n",
    "    \"has_suffix_with_root\",\n",
    "    \"has_confix\",\n",
    "    \"has_affix\",\n",
    "    \"compound_of\",\n",
    "    \"back-formation_from\"\n",
    "]\n",
    "relations2=[\n",
    "    \"doublet_with\",\n",
    "    \"is_onomatopoeic\",\n",
    "    \"etymologically_related_to\",\n",
    "    \"cognate_of\"\n",
    "]\n",
    "\n",
    "relations3=[\n",
    "    \"calque_of\",\n",
    "    \"semantic_loan_of\",\n",
    "    \"named_after\",\n",
    "    \"phono-semantic_matching_of\"\n",
    "]\n",
    "\n",
    "relations4=[\n",
    "    \"group_affix_root\",\n",
    "    \"clipping_of\",\n",
    "    \"abbreviation_of\",\n",
    "    \"initialism_of\"\n",
    "]\n",
    "relations5=[\n",
    "    \"inherited_from\",\n",
    "    \"borrowed_from\",\n",
    "    \"learned_borrowing_from\",\n",
    "    \"semi_learned_borrowing_from\",\n",
    "    \"orthographic_borrowing_from\",\n",
    "    \"unadapted_borrowing_from\"\n",
    "]\n",
    "relations6=[\n",
    "    \"group_related_root\",\n",
    "    \"group_derived_root\",\n",
    "    \"blend_of\",\n",
    "]\n",
    "\n",
    "kok_elaqeleri = data[data['reltype'].isin(relations)]\n",
    "kok_elaqeleri.reset_index(drop=True, inplace=True)\n",
    "kok_elaqeleri.to_csv('kok_elaqeleri_data.csv')\n",
    "\n",
    "benzerlik_elaqesi = data[data['reltype'].isin(relations2)]\n",
    "benzerlik_elaqesi.reset_index(drop=True, inplace=True)\n",
    "benzerlik_elaqesi.to_csv('benzerlik_elaqesi_data.csv')\n",
    "\n",
    "tercume_elaqesi = data[data['reltype'].isin(relations3)]\n",
    "tercume_elaqesi.reset_index(drop=True, inplace=True)\n",
    "tercume_elaqesi.to_csv('tercume_elaqesi_data.csv')\n",
    "\n",
    "qisaldilma_elaqesi = data[data['reltype'].isin(relations4)]\n",
    "qisaldilma_elaqesi.reset_index(drop=True, inplace=True)\n",
    "qisaldilma_elaqesi.to_csv('qisaldilma_elaqesi_data.csv')\n",
    "\n",
    "mense_elaqesi = data[data['reltype'].isin(relations5)]\n",
    "mense_elaqesi.reset_index(drop=True, inplace=True)\n",
    "mense_elaqesi.to_csv('mense_elaqesi_data.csv')\n",
    "\n",
    "diger_elaqeler = data[data['reltype'].isin(relations6)]\n",
    "diger_elaqeler.reset_index(drop=True, inplace=True)\n",
    "diger_elaqeler.to_csv('diger_elaqeler_data.csv')\n"
   ]
  }
 ],
 "metadata": {
  "kernelspec": {
   "display_name": "Python 3",
   "language": "python",
   "name": "python3"
  },
  "language_info": {
   "codemirror_mode": {
    "name": "ipython",
    "version": 3
   },
   "file_extension": ".py",
   "mimetype": "text/x-python",
   "name": "python",
   "nbconvert_exporter": "python",
   "pygments_lexer": "ipython3",
   "version": "3.12.4"
  }
 },
 "nbformat": 4,
 "nbformat_minor": 2
}

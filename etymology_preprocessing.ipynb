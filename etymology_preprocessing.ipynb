{
 "cells": [
  {
   "cell_type": "code",
   "execution_count": 21,
   "metadata": {},
   "outputs": [],
   "source": [
    "import pandas as pd\n",
    "csv_path = r\"C:\\Users\\Iqbal\\Documents\\Dillər Söz Analizi\\etymology.csv\\etymology.parquet\"\n",
    "data = pd.read_parquet(csv_path)\n",
    "\n",
    "data = data.drop('group_tag', axis=1)\n",
    "data = data.drop('parent_tag', axis=1)\n",
    "data = data.drop('parent_position', axis=1)\n",
    "data['lang'] = data['lang'].str.strip()\n",
    "data=data.drop_duplicates()\n"
   ]
  },
  {
   "cell_type": "code",
   "execution_count": 22,
   "metadata": {},
   "outputs": [],
   "source": [
    "lang_counts = data['lang'].value_counts(normalize=True)  \n",
    "\n",
    "cumulative_ratio = lang_counts.cumsum()  \n",
    "diller_to_keep = cumulative_ratio[cumulative_ratio <= 0.9].index  \n",
    "\n",
    "data = data[data['lang'].isin(diller_to_keep)]"
   ]
  },
  {
   "cell_type": "code",
   "execution_count": 23,
   "metadata": {},
   "outputs": [
    {
     "name": "stdout",
     "output_type": "stream",
     "text": [
      "<class 'pandas.core.frame.DataFrame'>\n",
      "RangeIndex: 3732008 entries, 0 to 3732007\n",
      "Data columns (total 8 columns):\n",
      " #   Column           Dtype \n",
      "---  ------           ----- \n",
      " 0   term_id          object\n",
      " 1   lang             object\n",
      " 2   term             object\n",
      " 3   reltype          object\n",
      " 4   related_term_id  object\n",
      " 5   related_lang     object\n",
      " 6   related_term     object\n",
      " 7   position         int64 \n",
      "dtypes: int64(1), object(7)\n",
      "memory usage: 227.8+ MB\n"
     ]
    }
   ],
   "source": [
    "data.reset_index(drop=True, inplace=True)\n",
    "data.info()"
   ]
  },
  {
   "cell_type": "code",
   "execution_count": 24,
   "metadata": {},
   "outputs": [],
   "source": [
    "data.to_csv('etymology.csv',index=False, encoding='utf-8')"
   ]
  }
 ],
 "metadata": {
  "kernelspec": {
   "display_name": "Python 3",
   "language": "python",
   "name": "python3"
  },
  "language_info": {
   "codemirror_mode": {
    "name": "ipython",
    "version": 3
   },
   "file_extension": ".py",
   "mimetype": "text/x-python",
   "name": "python",
   "nbconvert_exporter": "python",
   "pygments_lexer": "ipython3",
   "version": "3.12.4"
  }
 },
 "nbformat": 4,
 "nbformat_minor": 2
}
